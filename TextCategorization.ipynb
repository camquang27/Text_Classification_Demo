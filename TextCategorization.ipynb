{
  "nbformat": 4,
  "nbformat_minor": 0,
  "metadata": {
    "colab": {
      "name": "TextCategorization.ipynb",
      "provenance": [],
      "collapsed_sections": [],
      "toc_visible": true
    },
    "language_info": {
      "codemirror_mode": {
        "name": "ipython",
        "version": 3
      },
      "file_extension": ".py",
      "mimetype": "text/x-python",
      "name": "python",
      "nbconvert_exporter": "python",
      "pygments_lexer": "ipython3",
      "version": "3.6.7"
    },
    "kernelspec": {
      "name": "python3",
      "display_name": "Python 3"
    },
    "accelerator": "GPU"
  },
  "cells": [
    {
      "cell_type": "code",
      "metadata": {
        "id": "Wl0U8vJiISFV",
        "colab_type": "code",
        "outputId": "434812d1-e914-46be-9de7-70fcdbd2b816",
        "colab": {
          "base_uri": "https://localhost:8080/",
          "height": 122
        }
      },
      "source": [
        "from google.colab import drive\n",
        "drive.mount('/content/drive')"
      ],
      "execution_count": 0,
      "outputs": [
        {
          "output_type": "stream",
          "text": [
            "Go to this URL in a browser: https://accounts.google.com/o/oauth2/auth?client_id=947318989803-6bn6qk8qdgf4n4g3pfee6491hc0brc4i.apps.googleusercontent.com&redirect_uri=urn%3Aietf%3Awg%3Aoauth%3A2.0%3Aoob&scope=email%20https%3A%2F%2Fwww.googleapis.com%2Fauth%2Fdocs.test%20https%3A%2F%2Fwww.googleapis.com%2Fauth%2Fdrive%20https%3A%2F%2Fwww.googleapis.com%2Fauth%2Fdrive.photos.readonly%20https%3A%2F%2Fwww.googleapis.com%2Fauth%2Fpeopleapi.readonly&response_type=code\n",
            "\n",
            "Enter your authorization code:\n",
            "··········\n",
            "Mounted at /content/drive\n"
          ],
          "name": "stdout"
        }
      ]
    },
    {
      "cell_type": "code",
      "metadata": {
        "id": "Zrx8-9DJHlZP",
        "colab_type": "code",
        "outputId": "2520a16b-60b7-4c96-dd0b-def7f3384281",
        "colab": {
          "base_uri": "https://localhost:8080/",
          "height": 34
        }
      },
      "source": [
        "import tensorflow as tf\n",
        "import tensorflow_hub as hub\n",
        "import pandas as pd\n",
        "from sklearn import preprocessing\n",
        "from keras.preprocessing.text import Tokenizer\n",
        "import keras\n",
        "import numpy as np\n",
        "import codecs\n",
        "import csv\n",
        "import string\n",
        "import re\n",
        "import nltk"
      ],
      "execution_count": 0,
      "outputs": [
        {
          "output_type": "stream",
          "text": [
            "Using TensorFlow backend.\n"
          ],
          "name": "stderr"
        }
      ]
    },
    {
      "cell_type": "code",
      "metadata": {
        "id": "9ugg_4b12sNB",
        "colab_type": "code",
        "colab": {}
      },
      "source": [
        "data = pd.read_csv(r\"./drive/My Drive/Colab/CuoiKiNLP/BaiTap/bbc-text.csv\", encoding='utf-8')"
      ],
      "execution_count": 0,
      "outputs": []
    },
    {
      "cell_type": "code",
      "metadata": {
        "id": "Q7eoiclw2vKd",
        "colab_type": "code",
        "outputId": "70ec37dc-dd77-4618-f8d5-48e307ad24f4",
        "colab": {
          "base_uri": "https://localhost:8080/",
          "height": 119
        }
      },
      "source": [
        "print(data.head(5))"
      ],
      "execution_count": 0,
      "outputs": [
        {
          "output_type": "stream",
          "text": [
            "        category                                               text\n",
            "0           tech  tv future in the hands of viewers with home th...\n",
            "1       business  worldcom boss  left books alone  former worldc...\n",
            "2          sport  tigers wary of farrell  gamble  leicester say ...\n",
            "3          sport  yeading face newcastle in fa cup premiership s...\n",
            "4  entertainment  ocean s twelve raids box office ocean s twelve...\n"
          ],
          "name": "stdout"
        }
      ]
    },
    {
      "cell_type": "code",
      "metadata": {
        "id": "wyp88r4PHlZg",
        "colab_type": "code",
        "outputId": "77f0b27b-a8ac-4482-c296-36e25ca9a5cb",
        "colab": {
          "base_uri": "https://localhost:8080/",
          "height": 34
        }
      },
      "source": [
        "#verifying the dimensions of the data\n",
        "data.shape"
      ],
      "execution_count": 0,
      "outputs": [
        {
          "output_type": "execute_result",
          "data": {
            "text/plain": [
              "(2225, 2)"
            ]
          },
          "metadata": {
            "tags": []
          },
          "execution_count": 5
        }
      ]
    },
    {
      "cell_type": "code",
      "metadata": {
        "id": "EKjEIHi0HlZn",
        "colab_type": "code",
        "colab": {}
      },
      "source": [
        "y = data['category']\n",
        "x = data['text']"
      ],
      "execution_count": 0,
      "outputs": []
    },
    {
      "cell_type": "code",
      "metadata": {
        "id": "sa7gzO6vgwTx",
        "colab_type": "code",
        "outputId": "1354669b-b8bf-4255-da29-375bbc254ecc",
        "colab": {
          "base_uri": "https://localhost:8080/",
          "height": 71
        }
      },
      "source": [
        "print(x[2])\n",
        "print(y[2])"
      ],
      "execution_count": 0,
      "outputs": [
        {
          "output_type": "stream",
          "text": [
            "tigers wary of farrell  gamble  leicester say they will not be rushed into making a bid for andy farrell should the great britain rugby league captain decide to switch codes.   we and anybody else involved in the process are still some way away from going to the next stage   tigers boss john wells told bbc radio leicester.  at the moment  there are still a lot of unknowns about andy farrell  not least his medical situation.  whoever does take him on is going to take a big  big gamble.  farrell  who has had persistent knee problems  had an operation on his knee five weeks ago and is expected to be out for another three months. leicester and saracens are believed to head the list of rugby union clubs interested in signing farrell if he decides to move to the 15-man game.  if he does move across to union  wells believes he would better off playing in the backs  at least initially.  i m sure he could make the step between league and union by being involved in the centre   said wells.  i think england would prefer him to progress to a position in the back row where they can make use of some of his rugby league skills within the forwards.  the jury is out on whether he can cross that divide.  at this club  the balance will have to be struck between the cost of that gamble and the option of bringing in a ready-made replacement.\n",
            "sport\n"
          ],
          "name": "stdout"
        }
      ]
    },
    {
      "cell_type": "code",
      "metadata": {
        "id": "bfHNtVOUHlZs",
        "colab_type": "code",
        "outputId": "dbd0a819-919d-4b2b-8205-fdb2c23e9f82",
        "colab": {
          "base_uri": "https://localhost:8080/",
          "height": 34
        }
      },
      "source": [
        "#fitting the model\n",
        "\n",
        "le = preprocessing.LabelEncoder()\n",
        "le.fit(y)"
      ],
      "execution_count": 0,
      "outputs": [
        {
          "output_type": "execute_result",
          "data": {
            "text/plain": [
              "LabelEncoder()"
            ]
          },
          "metadata": {
            "tags": []
          },
          "execution_count": 8
        }
      ]
    },
    {
      "cell_type": "markdown",
      "metadata": {
        "id": "z-BmdOkqHlZy",
        "colab_type": "text"
      },
      "source": [
        "# Defining encode and decode functions\n"
      ]
    },
    {
      "cell_type": "code",
      "metadata": {
        "id": "7Xkyr-8oHlZ0",
        "colab_type": "code",
        "colab": {}
      },
      "source": [
        "def encode(le, labels):\n",
        "    enc = le.transform(labels)\n",
        "    return keras.utils.to_categorical(enc)"
      ],
      "execution_count": 0,
      "outputs": []
    },
    {
      "cell_type": "code",
      "metadata": {
        "id": "jPmM1kF8HlZ4",
        "colab_type": "code",
        "outputId": "6b1c9490-6d16-4ee3-ca63-616aeaedd8b7",
        "colab": {
          "base_uri": "https://localhost:8080/",
          "height": 85
        }
      },
      "source": [
        "test = encode(le, ['sport','tech','business','politics'])\n",
        "\n",
        "print(test)"
      ],
      "execution_count": 0,
      "outputs": [
        {
          "output_type": "stream",
          "text": [
            "[[0. 0. 0. 1. 0.]\n",
            " [0. 0. 0. 0. 1.]\n",
            " [1. 0. 0. 0. 0.]\n",
            " [0. 0. 1. 0. 0.]]\n"
          ],
          "name": "stdout"
        }
      ]
    },
    {
      "cell_type": "markdown",
      "metadata": {
        "id": "Reoie-xAHlZ7",
        "colab_type": "text"
      },
      "source": [
        "# Specifying training and testing data"
      ]
    },
    {
      "cell_type": "code",
      "metadata": {
        "id": "NukrLN6KHlZ8",
        "colab_type": "code",
        "outputId": "121859a6-9c47-4c85-8744-a59cfb16d4c2",
        "colab": {
          "base_uri": "https://localhost:8080/",
          "height": 68
        }
      },
      "source": [
        "tokenizer = Tokenizer()\n",
        "tokenizer.fit_on_texts(x)\n",
        "\n",
        "vocab_size = len(tokenizer.word_index) + 1\n",
        "\n",
        "print(vocab_size)\n",
        "sequences = tokenizer.texts_to_sequences(x)\n",
        "print('Found %s unique tokens' % len(sequences))\n",
        "\n",
        "embeddings_index = dict()\n",
        "f = open(r'./drive/My Drive/Colab/CuoiKiNLP/wiki-news-300d-1M-subword.vec',encoding=\"utf8\")\n",
        "for line in f:\n",
        "    values = line.split()\n",
        "    #print(values)\n",
        "    word = values[0]\n",
        "    #print(word)\n",
        "    coefs = np.asarray(values[1:], dtype='float32')\n",
        "    embeddings_index[word] = coefs\n",
        "f.close()\n",
        "print('Loaded %s word vectors.' % len(embeddings_index))"
      ],
      "execution_count": 0,
      "outputs": [
        {
          "output_type": "stream",
          "text": [
            "29727\n",
            "Found 2225 unique tokens\n",
            "Loaded 999995 word vectors.\n"
          ],
          "name": "stdout"
        }
      ]
    },
    {
      "cell_type": "code",
      "metadata": {
        "id": "p5TJ_z21j-Nh",
        "colab_type": "code",
        "colab": {}
      },
      "source": [
        "embedding_matrix = np.zeros((vocab_size, 300))\n",
        "for word, index in tokenizer.word_index.items():\n",
        "    if index > vocab_size - 1:\n",
        "        break\n",
        "    else:\n",
        "        embedding_vector = embeddings_index.get(word)\n",
        "        if embedding_vector is not None:\n",
        "            embedding_matrix[index] = embedding_vector"
      ],
      "execution_count": 0,
      "outputs": []
    },
    {
      "cell_type": "code",
      "metadata": {
        "id": "r_v1hPIpkh3M",
        "colab_type": "code",
        "outputId": "9d75be7f-9946-46ea-ae09-77e2268bd809",
        "colab": {
          "base_uri": "https://localhost:8080/",
          "height": 34
        }
      },
      "source": [
        "print(embedding_matrix.shape)"
      ],
      "execution_count": 0,
      "outputs": [
        {
          "output_type": "stream",
          "text": [
            "(29727, 300)\n"
          ],
          "name": "stdout"
        }
      ]
    },
    {
      "cell_type": "code",
      "metadata": {
        "id": "tZMfLJkbHlaC",
        "colab_type": "code",
        "colab": {}
      },
      "source": [
        "from keras.layers import Input, Lambda, Dense, Flatten, LSTM, Dropout, Conv1D, MaxPooling1D, GlobalAveragePooling1D\n",
        "from keras.layers.embeddings import Embedding\n",
        "from keras.models import Model\n",
        "import keras.backend as K\n",
        "from keras.callbacks import ModelCheckpoint\n",
        "from keras.models import Sequential"
      ],
      "execution_count": 0,
      "outputs": []
    },
    {
      "cell_type": "code",
      "metadata": {
        "id": "EVh07ayJh32Q",
        "colab_type": "code",
        "outputId": "bd107496-215f-4cba-bf70-e8bd949d23c3",
        "colab": {
          "base_uri": "https://localhost:8080/",
          "height": 136
        }
      },
      "source": [
        "y = encode(le,y)\n",
        "print(y)"
      ],
      "execution_count": 0,
      "outputs": [
        {
          "output_type": "stream",
          "text": [
            "[[0. 0. 0. 0. 1.]\n",
            " [1. 0. 0. 0. 0.]\n",
            " [0. 0. 0. 1. 0.]\n",
            " ...\n",
            " [0. 1. 0. 0. 0.]\n",
            " [0. 0. 1. 0. 0.]\n",
            " [0. 0. 0. 1. 0.]]\n"
          ],
          "name": "stdout"
        }
      ]
    },
    {
      "cell_type": "code",
      "metadata": {
        "id": "ojOGaZWvHlaH",
        "colab_type": "code",
        "colab": {}
      },
      "source": [
        "from keras.preprocessing.sequence import pad_sequences\n",
        "padded_docs = pad_sequences(sequences,maxlen=30,padding='post')\n",
        "\n",
        "from sklearn.model_selection import train_test_split\n",
        "\n",
        "X_train, X_test, y_train, y_test = train_test_split(padded_docs, y, test_size = 0.2)"
      ],
      "execution_count": 0,
      "outputs": []
    },
    {
      "cell_type": "code",
      "metadata": {
        "id": "_GD3As2HJJLa",
        "colab_type": "code",
        "outputId": "532369f9-7701-4b97-db1f-ed2ef5cf89c8",
        "colab": {
          "base_uri": "https://localhost:8080/",
          "height": 136
        }
      },
      "source": [
        "print(y_test)"
      ],
      "execution_count": 0,
      "outputs": [
        {
          "output_type": "stream",
          "text": [
            "[[0. 0. 0. 0. 1.]\n",
            " [1. 0. 0. 0. 0.]\n",
            " [0. 0. 1. 0. 0.]\n",
            " ...\n",
            " [1. 0. 0. 0. 0.]\n",
            " [0. 1. 0. 0. 0.]\n",
            " [1. 0. 0. 0. 0.]]\n"
          ],
          "name": "stdout"
        }
      ]
    },
    {
      "cell_type": "code",
      "metadata": {
        "id": "sZ0g_qbBmVg7",
        "colab_type": "code",
        "outputId": "363cafc1-f1d7-422c-86c0-3585d772961f",
        "colab": {
          "base_uri": "https://localhost:8080/",
          "height": 136
        }
      },
      "source": [
        "print(y_train)"
      ],
      "execution_count": 0,
      "outputs": [
        {
          "output_type": "stream",
          "text": [
            "[[1. 0. 0. 0. 0.]\n",
            " [0. 0. 0. 1. 0.]\n",
            " [1. 0. 0. 0. 0.]\n",
            " ...\n",
            " [0. 1. 0. 0. 0.]\n",
            " [1. 0. 0. 0. 0.]\n",
            " [1. 0. 0. 0. 0.]]\n"
          ],
          "name": "stdout"
        }
      ]
    },
    {
      "cell_type": "code",
      "metadata": {
        "id": "8NGePCMAyJTE",
        "colab_type": "code",
        "outputId": "93601902-7a10-4353-f087-4a4a0b20ce4e",
        "colab": {
          "base_uri": "https://localhost:8080/",
          "height": 68
        }
      },
      "source": [
        "print(padded_docs[1])"
      ],
      "execution_count": 0,
      "outputs": [
        {
          "output_type": "stream",
          "text": [
            "[ 330   39  501   32 1743  658    9  186    2   63   68  201    4   60\n",
            "  294 1272    1  214 7028 1253    5 3044 2057 2200   15   19 4863 2477\n",
            "   30 7029]\n"
          ],
          "name": "stdout"
        }
      ]
    },
    {
      "cell_type": "code",
      "metadata": {
        "id": "5343LM-aoOVJ",
        "colab_type": "code",
        "outputId": "2c2768b6-d73e-4229-8ad0-2920cd1d96f3",
        "colab": {
          "base_uri": "https://localhost:8080/",
          "height": 119
        }
      },
      "source": [
        "data['category'].value_counts()"
      ],
      "execution_count": 0,
      "outputs": [
        {
          "output_type": "execute_result",
          "data": {
            "text/plain": [
              "sport            511\n",
              "business         510\n",
              "politics         417\n",
              "tech             401\n",
              "entertainment    386\n",
              "Name: category, dtype: int64"
            ]
          },
          "metadata": {
            "tags": []
          },
          "execution_count": 20
        }
      ]
    },
    {
      "cell_type": "markdown",
      "metadata": {
        "id": "mTjDzSuiHlaL",
        "colab_type": "text"
      },
      "source": [
        "# Specifying the metrics for training"
      ]
    },
    {
      "cell_type": "code",
      "metadata": {
        "scrolled": true,
        "id": "eq887eBSHlaM",
        "colab_type": "code",
        "outputId": "c2667a3d-da6f-4e77-910d-f8e303a1758e",
        "colab": {
          "base_uri": "https://localhost:8080/",
          "height": 649
        }
      },
      "source": [
        "with tf.Session() as session:\n",
        "  model = Sequential()\n",
        "  model.add(Embedding(vocab_size, 300, weights=[embedding_matrix], input_length=30, trainable=True))  \n",
        "  model.add(Conv1D(128, 5, activation='relu', input_shape=(30, 300)))\n",
        "  model.add(Conv1D(256, 5, activation='relu', input_shape=(30, 128)))\n",
        "  model.add(GlobalAveragePooling1D())\n",
        "  model.add(Dropout(0.5))\n",
        "  model.add(Dense(5, activation='softmax'))\n",
        "  model.compile(loss='categorical_crossentropy', optimizer='adam', metrics=['accuracy'])\n",
        "  print(model.summary())"
      ],
      "execution_count": 0,
      "outputs": [
        {
          "output_type": "stream",
          "text": [
            "WARNING: Logging before flag parsing goes to stderr.\n",
            "W0728 10:39:47.504253 139689196500864 deprecation_wrapper.py:119] From /usr/local/lib/python3.6/dist-packages/keras/backend/tensorflow_backend.py:74: The name tf.get_default_graph is deprecated. Please use tf.compat.v1.get_default_graph instead.\n",
            "\n",
            "W0728 10:39:47.506329 139689196500864 deprecation_wrapper.py:119] From /usr/local/lib/python3.6/dist-packages/keras/backend/tensorflow_backend.py:517: The name tf.placeholder is deprecated. Please use tf.compat.v1.placeholder instead.\n",
            "\n",
            "W0728 10:39:47.513530 139689196500864 deprecation_wrapper.py:119] From /usr/local/lib/python3.6/dist-packages/keras/backend/tensorflow_backend.py:4138: The name tf.random_uniform is deprecated. Please use tf.random.uniform instead.\n",
            "\n",
            "W0728 10:39:47.526269 139689196500864 deprecation_wrapper.py:119] From /usr/local/lib/python3.6/dist-packages/keras/backend/tensorflow_backend.py:174: The name tf.get_default_session is deprecated. Please use tf.compat.v1.get_default_session instead.\n",
            "\n",
            "W0728 10:39:47.527050 139689196500864 deprecation_wrapper.py:119] From /usr/local/lib/python3.6/dist-packages/keras/backend/tensorflow_backend.py:190: The name tf.global_variables is deprecated. Please use tf.compat.v1.global_variables instead.\n",
            "\n",
            "W0728 10:39:49.272188 139689196500864 deprecation.py:506] From /usr/local/lib/python3.6/dist-packages/keras/backend/tensorflow_backend.py:3445: calling dropout (from tensorflow.python.ops.nn_ops) with keep_prob is deprecated and will be removed in a future version.\n",
            "Instructions for updating:\n",
            "Please use `rate` instead of `keep_prob`. Rate should be set to `rate = 1 - keep_prob`.\n",
            "W0728 10:39:49.302567 139689196500864 deprecation_wrapper.py:119] From /usr/local/lib/python3.6/dist-packages/keras/optimizers.py:790: The name tf.train.Optimizer is deprecated. Please use tf.compat.v1.train.Optimizer instead.\n",
            "\n"
          ],
          "name": "stderr"
        },
        {
          "output_type": "stream",
          "text": [
            "_________________________________________________________________\n",
            "Layer (type)                 Output Shape              Param #   \n",
            "=================================================================\n",
            "embedding_1 (Embedding)      (None, 30, 300)           8918100   \n",
            "_________________________________________________________________\n",
            "conv1d_1 (Conv1D)            (None, 26, 128)           192128    \n",
            "_________________________________________________________________\n",
            "conv1d_2 (Conv1D)            (None, 22, 256)           164096    \n",
            "_________________________________________________________________\n",
            "global_average_pooling1d_1 ( (None, 256)               0         \n",
            "_________________________________________________________________\n",
            "dropout_1 (Dropout)          (None, 256)               0         \n",
            "_________________________________________________________________\n",
            "dense_1 (Dense)              (None, 5)                 1285      \n",
            "=================================================================\n",
            "Total params: 9,275,609\n",
            "Trainable params: 9,275,609\n",
            "Non-trainable params: 0\n",
            "_________________________________________________________________\n",
            "None\n"
          ],
          "name": "stdout"
        }
      ]
    },
    {
      "cell_type": "markdown",
      "metadata": {
        "id": "dhSkmsJ-HlaQ",
        "colab_type": "text"
      },
      "source": [
        "# Training the model"
      ]
    },
    {
      "cell_type": "code",
      "metadata": {
        "scrolled": false,
        "id": "2-hWrd6YHlaS",
        "colab_type": "code",
        "outputId": "e866e623-8000-4217-f363-2c3554ae7cd9",
        "colab": {
          "base_uri": "https://localhost:8080/",
          "height": 241
        }
      },
      "source": [
        "with tf.Session() as session:\n",
        "    K.set_session(session)\n",
        "    session.run(tf.global_variables_initializer())  \n",
        "    session.run(tf.tables_initializer())\n",
        "    history = model.fit(X_train, y_train, epochs=4, validation_split= 0.2, batch_size=16)\n",
        "    model.save_weights('./text-fasttext.h5')"
      ],
      "execution_count": 0,
      "outputs": [
        {
          "output_type": "stream",
          "text": [
            "W0728 10:39:49.463572 139689196500864 deprecation.py:323] From /usr/local/lib/python3.6/dist-packages/tensorflow/python/ops/math_grad.py:1250: add_dispatch_support.<locals>.wrapper (from tensorflow.python.ops.array_ops) is deprecated and will be removed in a future version.\n",
            "Instructions for updating:\n",
            "Use tf.where in 2.0, which has the same broadcast rule as np.where\n"
          ],
          "name": "stderr"
        },
        {
          "output_type": "stream",
          "text": [
            "Train on 1424 samples, validate on 356 samples\n",
            "Epoch 1/4\n",
            "1424/1424 [==============================] - 5s 3ms/step - loss: 1.4972 - acc: 0.3195 - val_loss: 1.0863 - val_acc: 0.5674\n",
            "Epoch 2/4\n",
            "1424/1424 [==============================] - 1s 664us/step - loss: 0.4949 - acc: 0.8357 - val_loss: 0.6738 - val_acc: 0.7725\n",
            "Epoch 3/4\n",
            "1424/1424 [==============================] - 1s 667us/step - loss: 0.0437 - acc: 0.9937 - val_loss: 0.7744 - val_acc: 0.7640\n",
            "Epoch 4/4\n",
            "1424/1424 [==============================] - 1s 648us/step - loss: 0.0044 - acc: 1.0000 - val_loss: 0.8151 - val_acc: 0.7697\n"
          ],
          "name": "stdout"
        }
      ]
    },
    {
      "cell_type": "markdown",
      "metadata": {
        "id": "g7qmDkdYHlaW",
        "colab_type": "text"
      },
      "source": [
        "# Testing the model"
      ]
    },
    {
      "cell_type": "code",
      "metadata": {
        "id": "--jf_O2bHlaX",
        "colab_type": "code",
        "colab": {}
      },
      "source": [
        "with tf.Session() as session:\n",
        "    K.set_session(session)\n",
        "    session.run(tf.global_variables_initializer())\n",
        "    session.run(tf.tables_initializer())\n",
        "    model.load_weights('./text-fasttext.h5')  \n",
        "    predicts = model.predict(X_test, batch_size=32)"
      ],
      "execution_count": 0,
      "outputs": []
    },
    {
      "cell_type": "code",
      "metadata": {
        "id": "n8KjGkRuHlah",
        "colab_type": "code",
        "colab": {}
      },
      "source": [
        "from sklearn import metrics\n",
        "import matplotlib.pyplot as plt\n",
        "from scipy.interpolate import make_interp_spline, BSpline\n"
      ],
      "execution_count": 0,
      "outputs": []
    },
    {
      "cell_type": "code",
      "metadata": {
        "id": "m5yRkuxTy2Mn",
        "colab_type": "code",
        "colab": {}
      },
      "source": [
        "y_preds = []\n",
        "for preds in predicts:\n",
        "  y_preds.append(np.argmax(preds))"
      ],
      "execution_count": 0,
      "outputs": []
    },
    {
      "cell_type": "code",
      "metadata": {
        "id": "exZxuPlTy3r1",
        "colab_type": "code",
        "colab": {}
      },
      "source": [
        "y_test_1 = []\n",
        "for y_t in y_test:\n",
        "  y_test_1.append(np.argmax(y_t))"
      ],
      "execution_count": 0,
      "outputs": []
    },
    {
      "cell_type": "code",
      "metadata": {
        "id": "_bvsFwIdptm9",
        "colab_type": "code",
        "outputId": "731e3de7-b2fb-476c-b5a4-cb8cf5e5906e",
        "colab": {
          "base_uri": "https://localhost:8080/",
          "height": 54
        }
      },
      "source": [
        "print(y_test_1)"
      ],
      "execution_count": 0,
      "outputs": [
        {
          "output_type": "stream",
          "text": [
            "[4, 0, 2, 0, 2, 4, 1, 0, 4, 4, 3, 3, 0, 1, 3, 1, 3, 3, 2, 0, 0, 3, 2, 0, 2, 1, 2, 3, 1, 2, 0, 0, 4, 0, 2, 1, 2, 0, 4, 1, 3, 4, 0, 3, 0, 0, 2, 4, 4, 3, 3, 1, 0, 2, 0, 0, 1, 2, 1, 4, 2, 3, 4, 1, 3, 3, 2, 1, 3, 1, 0, 0, 0, 3, 3, 4, 3, 4, 4, 0, 2, 2, 2, 4, 4, 3, 4, 3, 0, 0, 2, 3, 0, 3, 4, 0, 3, 0, 1, 3, 1, 1, 1, 0, 4, 2, 3, 4, 0, 0, 1, 3, 3, 1, 0, 1, 1, 2, 2, 0, 4, 0, 2, 0, 0, 1, 3, 0, 1, 3, 3, 4, 4, 0, 1, 0, 0, 1, 3, 0, 1, 0, 2, 3, 0, 3, 0, 0, 1, 1, 4, 0, 3, 1, 3, 1, 3, 4, 0, 4, 4, 1, 2, 2, 1, 2, 4, 2, 2, 2, 0, 4, 1, 3, 0, 3, 2, 0, 0, 3, 3, 4, 3, 0, 0, 1, 3, 2, 2, 4, 4, 0, 0, 0, 1, 3, 1, 0, 3, 0, 0, 0, 4, 0, 1, 4, 4, 4, 0, 4, 2, 1, 3, 1, 0, 0, 0, 2, 4, 1, 3, 1, 0, 3, 4, 3, 0, 4, 3, 4, 4, 2, 2, 2, 3, 4, 2, 2, 3, 0, 4, 1, 2, 2, 2, 2, 2, 2, 1, 2, 3, 2, 3, 3, 3, 1, 2, 2, 2, 4, 3, 0, 0, 3, 0, 4, 3, 2, 3, 3, 2, 0, 4, 3, 1, 2, 0, 2, 0, 4, 2, 0, 3, 4, 3, 2, 1, 2, 4, 1, 3, 0, 2, 3, 2, 4, 0, 0, 3, 2, 3, 3, 0, 0, 1, 2, 3, 2, 3, 3, 0, 3, 3, 2, 4, 0, 0, 2, 0, 0, 1, 2, 3, 3, 3, 3, 3, 1, 1, 1, 1, 3, 3, 4, 0, 0, 0, 0, 0, 4, 4, 2, 4, 1, 1, 1, 3, 1, 1, 2, 1, 0, 1, 1, 3, 0, 0, 3, 0, 3, 2, 3, 2, 4, 1, 3, 2, 0, 3, 0, 0, 3, 2, 2, 4, 4, 3, 2, 1, 4, 3, 0, 2, 3, 1, 4, 4, 4, 3, 1, 3, 0, 2, 2, 3, 0, 0, 0, 3, 3, 2, 0, 2, 2, 4, 1, 2, 3, 3, 1, 0, 2, 3, 2, 1, 1, 1, 3, 4, 1, 0, 0, 3, 3, 2, 4, 4, 3, 3, 0, 2, 4, 2, 3, 3, 2, 2, 3, 0, 1, 3, 0, 0, 1, 0]\n"
          ],
          "name": "stdout"
        }
      ]
    },
    {
      "cell_type": "code",
      "metadata": {
        "id": "p_soX2tOHlam",
        "colab_type": "code",
        "outputId": "11798cb1-df3f-4057-e616-bbdcf154a7fa",
        "colab": {
          "base_uri": "https://localhost:8080/",
          "height": 102
        }
      },
      "source": [
        "#Confusion matrix for trained and tested data\n",
        "print(metrics.confusion_matrix(y_test_1, y_preds))"
      ],
      "execution_count": 0,
      "outputs": [
        {
          "output_type": "stream",
          "text": [
            "[[95  0  6  1  7]\n",
            " [11 43  7  8  4]\n",
            " [18  1 60  4  4]\n",
            " [ 9 11  0 85  3]\n",
            " [ 6  2  1  7 52]]\n"
          ],
          "name": "stdout"
        }
      ]
    },
    {
      "cell_type": "code",
      "metadata": {
        "id": "yC8GPtjtHlau",
        "colab_type": "code",
        "outputId": "1c1ec9eb-a77f-4864-a323-03986c53a805",
        "colab": {
          "base_uri": "https://localhost:8080/",
          "height": 221
        }
      },
      "source": [
        "print(metrics.classification_report(y_test_1, y_preds))"
      ],
      "execution_count": 0,
      "outputs": [
        {
          "output_type": "stream",
          "text": [
            "              precision    recall  f1-score   support\n",
            "\n",
            "           0       0.68      0.87      0.77       109\n",
            "           1       0.75      0.59      0.66        73\n",
            "           2       0.81      0.69      0.75        87\n",
            "           3       0.81      0.79      0.80       108\n",
            "           4       0.74      0.76      0.75        68\n",
            "\n",
            "    accuracy                           0.75       445\n",
            "   macro avg       0.76      0.74      0.74       445\n",
            "weighted avg       0.76      0.75      0.75       445\n",
            "\n"
          ],
          "name": "stdout"
        }
      ]
    },
    {
      "cell_type": "markdown",
      "metadata": {
        "id": "G90d3k5ZHla3",
        "colab_type": "text"
      },
      "source": [
        "# Plotting the results"
      ]
    },
    {
      "cell_type": "code",
      "metadata": {
        "id": "qHmgSnjTHla4",
        "colab_type": "code",
        "outputId": "58d5ca8e-3cf5-4fa0-bc58-1a2fc635e54f",
        "colab": {
          "base_uri": "https://localhost:8080/",
          "height": 573
        }
      },
      "source": [
        "hist = pd.DataFrame(history.history)\n",
        "\n",
        "# summarize history for accuracy\n",
        "plt.plot(hist['acc'])\n",
        "plt.title('model accuracy')\n",
        "plt.ylabel('accuracy')\n",
        "plt.xlabel('epoch')\n",
        "plt.legend(['train', 'test'], loc='upper left')\n",
        "plt.show()\n",
        "# summarize history for loss\n",
        "plt.plot(hist['loss'])\n",
        "plt.title('model loss')\n",
        "plt.ylabel('loss')\n",
        "plt.xlabel('epoch')\n",
        "plt.legend(['train', 'test'], loc='upper left')\n",
        "plt.show()"
      ],
      "execution_count": 0,
      "outputs": [
        {
          "output_type": "display_data",
          "data": {
            "image/png": "[encoded data removed]",
            "text/plain": [
              "<Figure size 432x288 with 1 Axes>"
            ]
          },
          "metadata": {
            "tags": []
          }
        },
        {
          "output_type": "display_data",
          "data": {
            "image/png": "[encoded data removed]",
            "text/plain": [
              "<Figure size 432x288 with 1 Axes>"
            ]
          },
          "metadata": {
            "tags": []
          }
        }
      ]
    }
  ]
}